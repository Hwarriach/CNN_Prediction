{
  "nbformat": 4,
  "nbformat_minor": 0,
  "metadata": {
    "colab": {
      "provenance": [],
      "mount_file_id": "1Q0Ox2g0W5bSnXyP_AWHh8h3Hhlnuk2Hk",
      "authorship_tag": "ABX9TyMfpwKgwJW5s54Xr4zGAtNQ",
      "include_colab_link": true
    },
    "kernelspec": {
      "name": "python3",
      "display_name": "Python 3"
    },
    "language_info": {
      "name": "python"
    }
  },
  "cells": [
    {
      "cell_type": "markdown",
      "metadata": {
        "id": "view-in-github",
        "colab_type": "text"
      },
      "source": [
        "<a href=\"https://colab.research.google.com/github/Hwarriach/CNN_Prediction/blob/main/Convolution_Neural_Network_Prediction.ipynb\" target=\"_parent\"><img src=\"https://colab.research.google.com/assets/colab-badge.svg\" alt=\"Open In Colab\"/></a>"
      ]
    },
    {
      "cell_type": "code",
      "execution_count": 1,
      "metadata": {
        "id": "SqGQkqk66yfJ"
      },
      "outputs": [],
      "source": [
        "import tensorflow as tf\n",
        "from keras.preprocessing.image import ImageDataGenerator"
      ]
    },
    {
      "cell_type": "code",
      "source": [
        "# Specifying the TensorFlow version\n",
        "\n",
        "tf.__version__"
      ],
      "metadata": {
        "colab": {
          "base_uri": "https://localhost:8080/",
          "height": 38
        },
        "id": "dsTpPxGT7RrK",
        "outputId": "7519ca00-6c51-490d-ab30-eb62ae9f804e"
      },
      "execution_count": 2,
      "outputs": [
        {
          "output_type": "execute_result",
          "data": {
            "text/plain": [
              "'2.8.2'"
            ],
            "application/vnd.google.colaboratory.intrinsic+json": {
              "type": "string"
            }
          },
          "metadata": {},
          "execution_count": 2
        }
      ]
    },
    {
      "cell_type": "code",
      "source": [
        "# testing for GPU\n",
        "\n",
        "import tensorflow as tf\n",
        "tf.test.gpu_device_name()"
      ],
      "metadata": {
        "colab": {
          "base_uri": "https://localhost:8080/",
          "height": 38
        },
        "id": "tXZbhan27WsK",
        "outputId": "f5da392b-bbc0-4022-cc2b-ede758e284b6"
      },
      "execution_count": 3,
      "outputs": [
        {
          "output_type": "execute_result",
          "data": {
            "text/plain": [
              "''"
            ],
            "application/vnd.google.colaboratory.intrinsic+json": {
              "type": "string"
            }
          },
          "metadata": {},
          "execution_count": 3
        }
      ]
    },
    {
      "cell_type": "code",
      "source": [
        "# Preprocessing the Training set\n",
        "train_datagen = ImageDataGenerator(rescale = 1./255,\n",
        "                                   shear_range = 0.2,\n",
        "                                   zoom_range = 0.2,\n",
        "                                   horizontal_flip=True)\n",
        "training_set = train_datagen.flow_from_directory('/content/drive/MyDrive/Colab Notebooks/Neural Networks/CNN Project/training_set',\n",
        "                                                 target_size = (64,64),\n",
        "                                                 batch_size=32,\n",
        "                                                 class_mode = 'binary')\n"
      ],
      "metadata": {
        "colab": {
          "base_uri": "https://localhost:8080/"
        },
        "id": "Av-LV9LZ7dc8",
        "outputId": "1f9a8020-5d1d-461c-c130-707eecf1986a"
      },
      "execution_count": 5,
      "outputs": [
        {
          "output_type": "stream",
          "name": "stdout",
          "text": [
            "Found 4000 images belonging to 2 classes.\n"
          ]
        }
      ]
    },
    {
      "cell_type": "code",
      "source": [
        "# Preprocessing the Test set\n",
        "\n",
        "test_datagen = ImageDataGenerator(rescale = 1./255)\n",
        "test_set = test_datagen.flow_from_directory('/content/drive/MyDrive/Colab Notebooks/Neural Networks/CNN Project/test_set',\n",
        "                                            target_size = (64,64),\n",
        "                                            batch_size = 32,\n",
        "                                            class_mode= 'binary')"
      ],
      "metadata": {
        "colab": {
          "base_uri": "https://localhost:8080/"
        },
        "id": "Edzsa78xAOyt",
        "outputId": "bbccd668-3301-4aa7-f8f2-f966099a09f7"
      },
      "execution_count": 6,
      "outputs": [
        {
          "output_type": "stream",
          "name": "stdout",
          "text": [
            "Found 1000 images belonging to 2 classes.\n"
          ]
        }
      ]
    },
    {
      "cell_type": "markdown",
      "source": [
        "Building the CNN"
      ],
      "metadata": {
        "id": "0FsZSi94AHuW"
      }
    },
    {
      "cell_type": "code",
      "source": [
        "#Initialising the CNN\n",
        "cnn = tf.keras.models.Sequential()\n",
        "\n"
      ],
      "metadata": {
        "id": "VIQCQ2XRAGxD"
      },
      "execution_count": 9,
      "outputs": []
    },
    {
      "cell_type": "code",
      "source": [
        "# Convolution\n",
        "cnn.add(tf.keras.layers.Conv2D(filters=32, kernel_size=3, activation='relu', input_shape=[64,64,3]))"
      ],
      "metadata": {
        "id": "rqtqBZuuFqpL"
      },
      "execution_count": 10,
      "outputs": []
    },
    {
      "cell_type": "code",
      "source": [
        "# Pooling\n",
        "cnn.add(tf.keras.layers.MaxPool2D(pool_size=2, strides=2))"
      ],
      "metadata": {
        "id": "4UPZrTJGFrl_"
      },
      "execution_count": 11,
      "outputs": []
    },
    {
      "cell_type": "code",
      "source": [
        "#adding a second convolution layer\n",
        "cnn.add(tf.keras.layers.Conv2D(filters=32, kernel_size=3, activation='relu'))\n",
        "cnn.add(tf.keras.layers.MaxPool2D(pool_size=2, strides=2))"
      ],
      "metadata": {
        "id": "UDcfYRKMFtxk"
      },
      "execution_count": 12,
      "outputs": []
    },
    {
      "cell_type": "code",
      "source": [
        "#Flattening\n",
        "cnn.add(tf.keras.layers.Flatten())"
      ],
      "metadata": {
        "id": "REJbOlRDFvgM"
      },
      "execution_count": 13,
      "outputs": []
    },
    {
      "cell_type": "code",
      "source": [
        "#Full Connection\n",
        "cnn.add(tf.keras.layers.Dense(units=128, activation='relu'))"
      ],
      "metadata": {
        "id": "C4TjJaweFw4d"
      },
      "execution_count": 14,
      "outputs": []
    },
    {
      "cell_type": "code",
      "source": [
        "#Output Layer\n",
        "cnn.add(tf.keras.layers.Dense(units=1, activation='sigmoid'))"
      ],
      "metadata": {
        "id": "Nn6-gExuFylU"
      },
      "execution_count": 16,
      "outputs": []
    },
    {
      "cell_type": "code",
      "source": [
        "#Model Summary\n",
        "cnn.summary()"
      ],
      "metadata": {
        "colab": {
          "base_uri": "https://localhost:8080/"
        },
        "id": "vuZO8dhJFy65",
        "outputId": "559fed03-1c81-4a4a-d87f-fb374c2fa39b"
      },
      "execution_count": 17,
      "outputs": [
        {
          "output_type": "stream",
          "name": "stdout",
          "text": [
            "Model: \"sequential_2\"\n",
            "_________________________________________________________________\n",
            " Layer (type)                Output Shape              Param #   \n",
            "=================================================================\n",
            " conv2d_3 (Conv2D)           (None, 62, 62, 32)        896       \n",
            "                                                                 \n",
            " max_pooling2d_2 (MaxPooling  (None, 31, 31, 32)       0         \n",
            " 2D)                                                             \n",
            "                                                                 \n",
            " conv2d_4 (Conv2D)           (None, 29, 29, 32)        9248      \n",
            "                                                                 \n",
            " max_pooling2d_3 (MaxPooling  (None, 14, 14, 32)       0         \n",
            " 2D)                                                             \n",
            "                                                                 \n",
            " flatten_1 (Flatten)         (None, 6272)              0         \n",
            "                                                                 \n",
            " dense_1 (Dense)             (None, 128)               802944    \n",
            "                                                                 \n",
            " dense_2 (Dense)             (None, 1)                 129       \n",
            "                                                                 \n",
            "=================================================================\n",
            "Total params: 813,217\n",
            "Trainable params: 813,217\n",
            "Non-trainable params: 0\n",
            "_________________________________________________________________\n"
          ]
        }
      ]
    },
    {
      "cell_type": "markdown",
      "source": [
        "Training the CNN"
      ],
      "metadata": {
        "id": "092LFqe3CDF5"
      }
    },
    {
      "cell_type": "code",
      "source": [
        "#compiling the CNN\n",
        "\n",
        "cnn.compile(optimizer = 'adam', loss = 'binary_crossentropy', metrics = ['accuracy'])"
      ],
      "metadata": {
        "id": "YnBYS838CEcg"
      },
      "execution_count": 18,
      "outputs": []
    },
    {
      "cell_type": "code",
      "source": [
        "#Training the CNN on the training set and evaluatin it on the Test set\n",
        "\n",
        "cnn.fit(x=training_set, validation_data=test_set, epochs=25)"
      ],
      "metadata": {
        "colab": {
          "base_uri": "https://localhost:8080/"
        },
        "id": "It0nD5AvCkmn",
        "outputId": "26699310-dd24-4496-8bcb-0a4163cb2c95"
      },
      "execution_count": 19,
      "outputs": [
        {
          "output_type": "stream",
          "name": "stdout",
          "text": [
            "Epoch 1/25\n",
            "125/125 [==============================] - 1060s 8s/step - loss: 0.6867 - accuracy: 0.5520 - val_loss: 0.6599 - val_accuracy: 0.6480\n",
            "Epoch 2/25\n",
            "125/125 [==============================] - 47s 377ms/step - loss: 0.6614 - accuracy: 0.6035 - val_loss: 0.6372 - val_accuracy: 0.6590\n",
            "Epoch 3/25\n",
            "125/125 [==============================] - 48s 380ms/step - loss: 0.6340 - accuracy: 0.6415 - val_loss: 0.6269 - val_accuracy: 0.6510\n",
            "Epoch 4/25\n",
            "125/125 [==============================] - 47s 376ms/step - loss: 0.6110 - accuracy: 0.6685 - val_loss: 0.5922 - val_accuracy: 0.6910\n",
            "Epoch 5/25\n",
            "125/125 [==============================] - 47s 377ms/step - loss: 0.5818 - accuracy: 0.7017 - val_loss: 0.5728 - val_accuracy: 0.7180\n",
            "Epoch 6/25\n",
            "125/125 [==============================] - 47s 379ms/step - loss: 0.5633 - accuracy: 0.7107 - val_loss: 0.6116 - val_accuracy: 0.6690\n",
            "Epoch 7/25\n",
            "125/125 [==============================] - 47s 377ms/step - loss: 0.5344 - accuracy: 0.7285 - val_loss: 0.5486 - val_accuracy: 0.7390\n",
            "Epoch 8/25\n",
            "125/125 [==============================] - 47s 373ms/step - loss: 0.5180 - accuracy: 0.7470 - val_loss: 0.5456 - val_accuracy: 0.7430\n",
            "Epoch 9/25\n",
            "125/125 [==============================] - 47s 376ms/step - loss: 0.5007 - accuracy: 0.7570 - val_loss: 0.5139 - val_accuracy: 0.7630\n",
            "Epoch 10/25\n",
            "125/125 [==============================] - 47s 377ms/step - loss: 0.4869 - accuracy: 0.7638 - val_loss: 0.5291 - val_accuracy: 0.7570\n",
            "Epoch 11/25\n",
            "125/125 [==============================] - 47s 372ms/step - loss: 0.4687 - accuracy: 0.7780 - val_loss: 0.5056 - val_accuracy: 0.7720\n",
            "Epoch 12/25\n",
            "125/125 [==============================] - 47s 373ms/step - loss: 0.4479 - accuracy: 0.7865 - val_loss: 0.5121 - val_accuracy: 0.7750\n",
            "Epoch 13/25\n",
            "125/125 [==============================] - 48s 381ms/step - loss: 0.4350 - accuracy: 0.7995 - val_loss: 0.5123 - val_accuracy: 0.7670\n",
            "Epoch 14/25\n",
            "125/125 [==============================] - 47s 379ms/step - loss: 0.4151 - accuracy: 0.8065 - val_loss: 0.5094 - val_accuracy: 0.7710\n",
            "Epoch 15/25\n",
            "125/125 [==============================] - 48s 380ms/step - loss: 0.3991 - accuracy: 0.8223 - val_loss: 0.5241 - val_accuracy: 0.7720\n",
            "Epoch 16/25\n",
            "125/125 [==============================] - 46s 371ms/step - loss: 0.3800 - accuracy: 0.8215 - val_loss: 0.4985 - val_accuracy: 0.7760\n",
            "Epoch 17/25\n",
            "125/125 [==============================] - 48s 380ms/step - loss: 0.3616 - accuracy: 0.8405 - val_loss: 0.5130 - val_accuracy: 0.7710\n",
            "Epoch 18/25\n",
            "125/125 [==============================] - 46s 370ms/step - loss: 0.3579 - accuracy: 0.8422 - val_loss: 0.5143 - val_accuracy: 0.7750\n",
            "Epoch 19/25\n",
            "125/125 [==============================] - 46s 371ms/step - loss: 0.3200 - accuracy: 0.8630 - val_loss: 0.5957 - val_accuracy: 0.7590\n",
            "Epoch 20/25\n",
            "125/125 [==============================] - 46s 370ms/step - loss: 0.3232 - accuracy: 0.8575 - val_loss: 0.5559 - val_accuracy: 0.7670\n",
            "Epoch 21/25\n",
            "125/125 [==============================] - 46s 366ms/step - loss: 0.3070 - accuracy: 0.8648 - val_loss: 0.5944 - val_accuracy: 0.7400\n",
            "Epoch 22/25\n",
            "125/125 [==============================] - 46s 371ms/step - loss: 0.2858 - accuracy: 0.8750 - val_loss: 0.5424 - val_accuracy: 0.7810\n",
            "Epoch 23/25\n",
            "125/125 [==============================] - 45s 359ms/step - loss: 0.2634 - accuracy: 0.8892 - val_loss: 0.5544 - val_accuracy: 0.7770\n",
            "Epoch 24/25\n",
            "125/125 [==============================] - 45s 360ms/step - loss: 0.2494 - accuracy: 0.8965 - val_loss: 0.5459 - val_accuracy: 0.7750\n",
            "Epoch 25/25\n",
            "125/125 [==============================] - 46s 366ms/step - loss: 0.2360 - accuracy: 0.9020 - val_loss: 0.5886 - val_accuracy: 0.7790\n"
          ]
        },
        {
          "output_type": "execute_result",
          "data": {
            "text/plain": [
              "<keras.callbacks.History at 0x7f735096e310>"
            ]
          },
          "metadata": {},
          "execution_count": 19
        }
      ]
    },
    {
      "cell_type": "markdown",
      "source": [
        "Making a Single Prediction"
      ],
      "metadata": {
        "id": "yTT7PR5lCujx"
      }
    },
    {
      "cell_type": "code",
      "source": [
        "import numpy as np\n",
        "from keras.preprocessing import image\n",
        "test_image = image.load_img('/content/drive/MyDrive/Colab Notebooks/Neural Networks/CNN Project/single_prediction/cat_or_dog_1.jpg', target_size = (64, 64))\n",
        "test_image = image.img_to_array(test_image)\n",
        "test_image = np.expand_dims(test_image, axis = 0)\n",
        "result = cnn.predict(test_image)\n",
        "training_set.class_indices\n",
        "if result[0][0] == 1:\n",
        "    prediction = 'dog'\n",
        "else:\n",
        "    prediction = 'cat'"
      ],
      "metadata": {
        "id": "_1Kh2LHWCwQR"
      },
      "execution_count": 24,
      "outputs": []
    },
    {
      "cell_type": "code",
      "source": [
        "print(prediction)"
      ],
      "metadata": {
        "colab": {
          "base_uri": "https://localhost:8080/"
        },
        "id": "tfDArrM0DQ8v",
        "outputId": "42011b37-72ff-4bc3-a231-a6bc2c9b9a3c"
      },
      "execution_count": 25,
      "outputs": [
        {
          "output_type": "stream",
          "name": "stdout",
          "text": [
            "dog\n"
          ]
        }
      ]
    }
  ]
}